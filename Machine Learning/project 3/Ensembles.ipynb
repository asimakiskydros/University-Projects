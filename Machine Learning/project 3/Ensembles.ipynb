{
  "cells": [
    {
      "cell_type": "markdown",
      "metadata": {
        "id": "O8gU7AYPXMmA"
      },
      "source": [
        "## About iPython Notebooks ##\n",
        "\n",
        "iPython Notebooks are interactive coding environments embedded in a webpage. You will be using iPython notebooks in this class. Make sure you fill in any place that says `# BEGIN CODE HERE #END CODE HERE`. After writing your code, you can run the cell by either pressing \"SHIFT\"+\"ENTER\" or by clicking on \"Run\" (denoted by a play symbol). Before you turn this problem in, make sure everything runs as expected. First, **restart the kernel** (in the menubar, select Kernel$\\rightarrow$Restart) and then **run all cells** (in the menubar, select Cell$\\rightarrow$Run All).\n",
        "\n",
        " **What you need to remember:**\n",
        "\n",
        "- Run your cells using SHIFT+ENTER (or \"Run cell\")\n",
        "- Write code in the designated areas using Python 3 only\n",
        "- Do not modify the code outside of the designated areas\n",
        "- In some cases you will also need to explain the results. There will also be designated areas for that.\n",
        "\n",
        "Fill in your **NAME** and **AEM** below:"
      ]
    },
    {
      "cell_type": "code",
      "execution_count": 1,
      "metadata": {
        "id": "lO-jJrtNXMmH"
      },
      "outputs": [],
      "source": [
        "NAME = \"Ασημάκης Κύδρος\"\n",
        "AEM = \"3881\""
      ]
    },
    {
      "cell_type": "markdown",
      "metadata": {
        "id": "sh0EE7BJXMmJ"
      },
      "source": [
        "---"
      ]
    },
    {
      "cell_type": "markdown",
      "metadata": {
        "id": "v_VpnGyWXMmK"
      },
      "source": [
        "# Assignment 3 - Ensemble Methods #"
      ]
    },
    {
      "cell_type": "markdown",
      "metadata": {
        "id": "2dQ9XoGQXMmK"
      },
      "source": [
        "Welcome to your third assignment. This exercise will test your understanding on Ensemble Methods."
      ]
    },
    {
      "cell_type": "code",
      "execution_count": 2,
      "metadata": {
        "id": "JvHYIhS-XMmL"
      },
      "outputs": [],
      "source": [
        "# Always run this cell\n",
        "import numpy as np\n",
        "import pandas as pd\n",
        "\n",
        "# USE THE FOLLOWING RANDOM STATE FOR YOUR CODE\n",
        "RANDOM_STATE = 42"
      ]
    },
    {
      "cell_type": "markdown",
      "metadata": {
        "id": "joKwpih2XMmM"
      },
      "source": [
        "## Download the Dataset ##\n",
        "Download the dataset using the following cell or from this [link](https://github.com/sakrifor/public/tree/master/machine_learning_course/EnsembleDataset) and put the files in the same folder as the .ipynb file.\n",
        "In this assignment you are going to work with a dataset originated from the [ImageCLEFmed: The Medical Task 2016](https://www.imageclef.org/2016/medical) and the **Compound figure detection** subtask. The goal of this subtask is to identify whether a figure is a compound figure (one image consists of more than one figure) or not. The train dataset consits of 4197 examples/figures and each figure has 4096 features which were extracted using a deep neural network. The *CLASS* column represents the class of each example where 1 is a compoung figure and 0 is not.\n"
      ]
    },
    {
      "cell_type": "code",
      "execution_count": 3,
      "metadata": {
        "colab": {
          "base_uri": "https://localhost:8080/"
        },
        "id": "NJdwPr0bXMmM",
        "outputId": "3ccd6a22-c7b2-435a-9c84-2badba9c3638"
      },
      "outputs": [
        {
          "output_type": "execute_result",
          "data": {
            "text/plain": [
              "('test_set_noclass.csv', <http.client.HTTPMessage at 0x7f105417ce80>)"
            ]
          },
          "metadata": {},
          "execution_count": 3
        }
      ],
      "source": [
        "import urllib.request\n",
        "url_train = 'https://github.com/sakrifor/public/raw/master/machine_learning_course/EnsembleDataset/train_set.csv'\n",
        "filename_train = 'train_set.csv'\n",
        "urllib.request.urlretrieve(url_train, filename_train)\n",
        "url_test = 'https://github.com/sakrifor/public/raw/master/machine_learning_course/EnsembleDataset/test_set_noclass.csv'\n",
        "filename_test = 'test_set_noclass.csv'\n",
        "urllib.request.urlretrieve(url_test, filename_test)"
      ]
    },
    {
      "cell_type": "code",
      "execution_count": 4,
      "metadata": {
        "id": "t0OVtYr7XMmN"
      },
      "outputs": [],
      "source": [
        "# Run this cell to load the data\n",
        "train_set = pd.read_csv(\"train_set.csv\").sample(frac=1).reset_index(drop=True)\n",
        "train_set.head()\n",
        "X = train_set.drop(columns=['CLASS'])\n",
        "y = train_set['CLASS'].values"
      ]
    },
    {
      "cell_type": "code",
      "execution_count": 5,
      "metadata": {
        "id": "4XK751YSecqQ",
        "colab": {
          "base_uri": "https://localhost:8080/"
        },
        "outputId": "4c699872-77de-4b24-aecc-f0df5bbfd0b4"
      },
      "outputs": [
        {
          "output_type": "stream",
          "name": "stdout",
          "text": [
            "Looking in indexes: https://pypi.org/simple, https://us-python.pkg.dev/colab-wheels/public/simple/\n",
            "Requirement already satisfied: imbalanced-learn in /usr/local/lib/python3.10/dist-packages (0.10.1)\n",
            "Requirement already satisfied: numpy>=1.17.3 in /usr/local/lib/python3.10/dist-packages (from imbalanced-learn) (1.22.4)\n",
            "Requirement already satisfied: scipy>=1.3.2 in /usr/local/lib/python3.10/dist-packages (from imbalanced-learn) (1.10.1)\n",
            "Requirement already satisfied: scikit-learn>=1.0.2 in /usr/local/lib/python3.10/dist-packages (from imbalanced-learn) (1.2.2)\n",
            "Requirement already satisfied: joblib>=1.1.1 in /usr/local/lib/python3.10/dist-packages (from imbalanced-learn) (1.2.0)\n",
            "Requirement already satisfied: threadpoolctl>=2.0.0 in /usr/local/lib/python3.10/dist-packages (from imbalanced-learn) (3.1.0)\n"
          ]
        }
      ],
      "source": [
        "!pip install -U imbalanced-learn"
      ]
    },
    {
      "cell_type": "markdown",
      "metadata": {
        "id": "tQH40Vb5fvx2"
      },
      "source": [
        "The following code will reduce the number of instances, dealing with the small imbalance of the dataset, as well as reducing the size of the dataset!"
      ]
    },
    {
      "cell_type": "code",
      "execution_count": 6,
      "metadata": {
        "colab": {
          "base_uri": "https://localhost:8080/"
        },
        "id": "DIgD6Nmkeaxv",
        "outputId": "6fbdd965-469d-4689-8163-645df99c8996"
      },
      "outputs": [
        {
          "output_type": "stream",
          "name": "stdout",
          "text": [
            "Resampled dataset shape Counter({0: 1687, 1: 1687})\n"
          ]
        }
      ],
      "source": [
        "from collections import Counter\n",
        "from imblearn.under_sampling import NeighbourhoodCleaningRule, RandomUnderSampler\n",
        "\n",
        "ncr = NeighbourhoodCleaningRule()\n",
        "X_res, y_res = ncr.fit_resample(X, y)\n",
        "rus = RandomUnderSampler(random_state=42)\n",
        "X_res, y_res = rus.fit_resample(X_res, y_res)\n",
        "print('Resampled dataset shape %s' % Counter(y_res))\n",
        "X = X_res\n",
        "y = y_res"
      ]
    },
    {
      "cell_type": "markdown",
      "metadata": {
        "id": "ZxOGHSmqXMmO"
      },
      "source": [
        "## 1.0 Testing different ensemble methods ##\n",
        "In this part of the assignment you are asked to create and test different ensemble methods using the train_set.csv dataset. You should use **5-fold cross validation** for your tests and report the average f-measure weighted and balanced accuracy of your models. You can use [cross_validate](https://scikit-learn.org/stable/modules/generated/sklearn.model_selection.cross_validate.html#sklearn.model_selection.cross_validate) and select both metrics to be measured during the evaluation.\n",
        "\n",
        "### !!! Use n_jobs=-1 where is posibble to use all the cores of a machine for running your tests ###"
      ]
    },
    {
      "cell_type": "markdown",
      "metadata": {
        "id": "Ww_u4OlrXMmO"
      },
      "source": [
        "### 1.1 Voting ###\n",
        "Create a voting classifier which uses two **simple** estimators/classifiers. Test both soft and hard voting and report the results. Consider as simple estimators the following:\n",
        "\n",
        "\n",
        "*   Decision Trees\n",
        "*   Linear Models\n",
        "*   KNN Models  "
      ]
    },
    {
      "cell_type": "code",
      "execution_count": 7,
      "metadata": {
        "id": "9xKWBVWVz3yV",
        "colab": {
          "base_uri": "https://localhost:8080/"
        },
        "outputId": "c9ef1ef3-d8cb-46f7-d62f-448421a8b0d5"
      },
      "outputs": [
        {
          "output_type": "stream",
          "name": "stdout",
          "text": [
            "Classifier:\n",
            "VotingClassifier(estimators=[('lr',\n",
            "                              LogisticRegression(max_iter=1000,\n",
            "                                                 random_state=42)),\n",
            "                             ('dt',\n",
            "                              DecisionTreeClassifier(max_depth=5,\n",
            "                                                     random_state=42))],\n",
            "                 n_jobs=-1, voting='soft')\n",
            "F1 Weighted-Score: 0.8746 & Balanced Accuracy: 0.8746\n",
            "Classifier:\n",
            "VotingClassifier(estimators=[('lr',\n",
            "                              LogisticRegression(max_iter=1000,\n",
            "                                                 random_state=42)),\n",
            "                             ('dt',\n",
            "                              DecisionTreeClassifier(max_depth=5,\n",
            "                                                     random_state=42))],\n",
            "                 n_jobs=-1)\n",
            "F1 Weighted-Score: 0.8195 & Balanced Accuracy: 0.8222\n"
          ]
        }
      ],
      "source": [
        "### BEGIN SOLUTION\n",
        "\n",
        "from sklearn.linear_model import LogisticRegression\n",
        "from sklearn.tree import DecisionTreeClassifier\n",
        "from sklearn.ensemble import VotingClassifier\n",
        "from sklearn.model_selection import train_test_split, cross_validate\n",
        "from sklearn.metrics import get_scorer_names\n",
        "\n",
        "# USE RANDOM STATE!\n",
        "\n",
        "cls1 = LogisticRegression(max_iter=1000, random_state=RANDOM_STATE)\n",
        "cls2 = DecisionTreeClassifier(max_depth=5, random_state=RANDOM_STATE)\n",
        "soft_vcls = VotingClassifier([('lr', cls1), ('dt', cls2)], voting='soft', n_jobs=-1)\n",
        "hard_vcls = VotingClassifier([('lr', cls1), ('dt', cls2)], voting='hard', n_jobs=-1)\n",
        "\n",
        "svlcs_scores = cross_validate(soft_vcls, X, y, scoring=('f1_weighted', 'balanced_accuracy'), n_jobs=-1)\n",
        "s_avg_fmeasure = svlcs_scores['test_f1_weighted'].mean()\n",
        "s_avg_accuracy = svlcs_scores['test_balanced_accuracy'].mean()\n",
        "\n",
        "hvlcs_scores = cross_validate(hard_vcls, X, y, scoring=('f1_weighted', 'balanced_accuracy'), n_jobs=-1)\n",
        "h_avg_fmeasure = hvlcs_scores['test_f1_weighted'].mean()\n",
        "h_avg_accuracy = hvlcs_scores['test_balanced_accuracy'].mean()\n",
        "\n",
        "### END SOLUTION\n",
        "\n",
        "print(\"Classifier:\")\n",
        "print(soft_vcls)\n",
        "print(\"F1 Weighted-Score: {} & Balanced Accuracy: {}\".format(round(s_avg_fmeasure,4), round(s_avg_accuracy,4)))\n",
        "\n",
        "print(\"Classifier:\")\n",
        "print(hard_vcls)\n",
        "print(\"F1 Weighted-Score: {} & Balanced Accuracy: {}\".format(round(h_avg_fmeasure,4), round(h_avg_accuracy,4)))"
      ]
    },
    {
      "cell_type": "markdown",
      "metadata": {
        "id": "92ubbtE8gtHy"
      },
      "source": [
        "For both soft/hard voting classifiers the F1 weighted score should be above 0.74 and 0.79, respectively, and for balanced accuracy 0.74 and 0.80. Remember! This should be the average performance of each fold, as measured through cross-validation with 5 folds!"
      ]
    },
    {
      "cell_type": "markdown",
      "metadata": {
        "id": "KPG8MdFLXMmV"
      },
      "source": [
        "### 1.2 Randomization\n",
        "\n",
        "You are asked to create three ensembles of decision trees where each one uses a different method for producing homogeneous ensembles. Compare them with a simple decision tree classifier and report your results in the dictionaries (dict) below using as key the given name of your classifier and as value the f1_weighted/balanced_accuracy score. The dictionaries should contain four different elements. Use the same cross-validation approach as before!"
      ]
    },
    {
      "cell_type": "code",
      "execution_count": 8,
      "metadata": {
        "id": "PmkaP-DjXMmV",
        "colab": {
          "base_uri": "https://localhost:8080/"
        },
        "outputId": "5a5148be-8fed-465d-a077-ceb21b7dc658"
      },
      "outputs": [
        {
          "output_type": "stream",
          "name": "stdout",
          "text": [
            "BaggingClassifier(estimator=DecisionTreeClassifier(max_depth=5), n_jobs=-1,\n",
            "                  random_state=42)\n",
            "RandomForestClassifier(n_jobs=-1, random_state=42)\n",
            "AdaBoostClassifier(estimator=DecisionTreeClassifier(max_depth=5),\n",
            "                   random_state=42)\n",
            "DecisionTreeClassifier(max_depth=5, random_state=42)\n",
            "Classifier: Bagging -  F1 Weighted: 0.7947\n",
            "Classifier: Random Forest -  F1 Weighted: 0.7947\n",
            "Classifier: Ada Boost -  F1 Weighted: 0.8114\n",
            "Classifier: Simple Decision -  F1 Weighted: 0.7443\n",
            "Classifier: Bagging -  BalancedAccuracy: 0.7949\n",
            "Classifier: Random Forest -  BalancedAccuracy: 0.7949\n",
            "Classifier: Ada Boost -  BalancedAccuracy: 0.8115\n",
            "Classifier: Simple Decision -  BalancedAccuracy: 0.7448\n"
          ]
        }
      ],
      "source": [
        "### BEGIN SOLUTION\n",
        "from sklearn.ensemble import BaggingClassifier, RandomForestClassifier, AdaBoostClassifier\n",
        "\n",
        "ens1 = BaggingClassifier(DecisionTreeClassifier(max_depth=5), random_state=RANDOM_STATE, n_jobs=-1)\n",
        "ens2 = RandomForestClassifier(random_state=RANDOM_STATE, n_jobs=-1)\n",
        "ens3 = AdaBoostClassifier(DecisionTreeClassifier(max_depth=5), random_state=RANDOM_STATE)\n",
        "tree = DecisionTreeClassifier(max_depth=5, random_state=RANDOM_STATE)\n",
        "\n",
        "scores_ens1 = cross_validate(ens1, X, y, scoring=('f1_weighted', 'balanced_accuracy'), n_jobs=-1)\n",
        "scores_ens2 = cross_validate(ens1, X, y, scoring=('f1_weighted', 'balanced_accuracy'), n_jobs=-1)\n",
        "scores_ens3 = cross_validate(ens3, X, y, scoring=('f1_weighted', 'balanced_accuracy'), n_jobs=-1)\n",
        "scores_tree = cross_validate(tree, X, y, scoring=('f1_weighted', 'balanced_accuracy'), n_jobs=-1)\n",
        "\n",
        "f_measures = {\n",
        "    'Bagging': scores_ens1['test_f1_weighted'].mean(),\n",
        "    'Random Forest': scores_ens2['test_f1_weighted'].mean(),\n",
        "    'Ada Boost': scores_ens3['test_f1_weighted'].mean(),\n",
        "    'Simple Decision': scores_tree['test_f1_weighted'].mean()\n",
        "}\n",
        "accuracies = {\n",
        "    'Bagging': scores_ens1['test_balanced_accuracy'].mean(),\n",
        "    'Random Forest': scores_ens2['test_balanced_accuracy'].mean(),\n",
        "    'Ada Boost': scores_ens3['test_balanced_accuracy'].mean(),\n",
        "    'Simple Decision': scores_tree['test_balanced_accuracy'].mean()\n",
        "}\n",
        "# Example f_measures = {'Simple Decision':0.8551, 'Ensemble with random ...': 0.92, ...}\n",
        "\n",
        "\n",
        "### END SOLUTION\n",
        "\n",
        "print(ens1)\n",
        "print(ens2)\n",
        "print(ens3)\n",
        "print(tree)\n",
        "for name,score in f_measures.items():\n",
        "    print(\"Classifier: {} -  F1 Weighted: {}\".format(name,round(score,4)))\n",
        "for name,score in accuracies.items():\n",
        "    print(\"Classifier: {} -  BalancedAccuracy: {}\".format(name,round(score,4)))"
      ]
    },
    {
      "cell_type": "markdown",
      "metadata": {
        "id": "lkJeuV1FXMmX"
      },
      "source": [
        "### 1.3 Question\n",
        "\n",
        "Increasing the number of estimators in a bagging classifier can drastically increase the training time of a classifier. Is there any solution to this problem? Can the same solution be applied to boosting classifiers?"
      ]
    },
    {
      "cell_type": "markdown",
      "metadata": {
        "id": "ApNEPcWEXMmY"
      },
      "source": [
        "Parallelizing the cross validation of the bagging classifier with as many cores as possible will give a noticable performance improvement. This is also true for other classifiers, such as Random Forests.\n",
        "\n",
        "This tactic unfortunately cannot be applied to boosting classifiers, such as AdaBoost used above, as their estimators have to learn from each other. Thus parallelization is unfeasible."
      ]
    },
    {
      "cell_type": "markdown",
      "metadata": {
        "id": "XgvsCbUGXMmY"
      },
      "source": [
        "## 2.0 Creating the best classifier ##\n",
        "In the second part of this assignment, we will try to train the best classifier, as well as to evaluate it using stratified cross valdiation."
      ]
    },
    {
      "cell_type": "markdown",
      "metadata": {
        "id": "Q6daX2mRXMmZ"
      },
      "source": [
        "### 2.1 Good Performing Ensemble\n",
        "\n",
        "In this part of the assignment you are asked to train a good performing ensemble, that is able to be used in a production environment! Describe the process you followed to achieve this result. How did you choose your classifier and your parameters and why. Report the f-measure (weighted) & balanced accuracy, using 10-fold stratified cross validation, of your final classifier. Can you achieve a balanced accuracy over 88%, while keeping the training time low? (Tip 1: You can even use a model from the previous parts, but you are advised to test additional configurations, and ensemble architectures, Tip 2: If you try a lot of models/ensembles/configurations or even grid searches, in your answer leave only the classifier you selected as the best!)"
      ]
    },
    {
      "cell_type": "code",
      "execution_count": 9,
      "metadata": {
        "id": "00xAQ0HfXMmZ",
        "colab": {
          "base_uri": "https://localhost:8080/"
        },
        "outputId": "a4e8cad6-22c6-4a56-c2b4-cb2119fc474a"
      },
      "outputs": [
        {
          "output_type": "stream",
          "name": "stderr",
          "text": [
            "/usr/local/lib/python3.10/dist-packages/joblib/externals/loky/process_executor.py:700: UserWarning: A worker stopped while some jobs were given to the executor. This can be caused by a too short worker timeout or by a memory leak.\n",
            "  warnings.warn(\n"
          ]
        },
        {
          "output_type": "stream",
          "name": "stdout",
          "text": [
            "Classifier:\n",
            "F1 Weighted-Score: 0.8837815540269123 & Balanced Accuracy: 0.8838105804451958\n"
          ]
        }
      ],
      "source": [
        "### BEGIN SOLUTION\n",
        "from xgboost import XGBClassifier\n",
        "\n",
        "best_cls = XGBClassifier(n_estimators=100, tree_method='gpu_hist')\n",
        "scores_bcls = cross_validate(best_cls, X, y, cv=10, scoring=('f1_weighted', 'balanced_accuracy'), n_jobs=-1)\n",
        "best_fmeasure = scores_bcls['test_f1_weighted'].mean()\n",
        "best_accuracy = scores_bcls['test_balanced_accuracy'].mean()\n",
        "### END SOLUTION\n",
        "\n",
        "print(\"Classifier:\")\n",
        "#print(best_cls)\n",
        "print(\"F1 Weighted-Score: {} & Balanced Accuracy: {}\".format(best_fmeasure, best_accuracy))"
      ]
    },
    {
      "cell_type": "markdown",
      "metadata": {
        "id": "lnAp-d2DXMmf"
      },
      "source": [
        "LEAVE HERE ANY COMMENTS ABOUT YOUR CLASSIFIER"
      ]
    },
    {
      "cell_type": "markdown",
      "metadata": {
        "id": "vnos1uqzXMma"
      },
      "source": [
        "### 2.2 Question\n",
        " What other ensemble architectures you tried, and why you did not choose them as your final classifier?"
      ]
    },
    {
      "cell_type": "markdown",
      "metadata": {
        "id": "o5dAfbTfXMmb"
      },
      "source": [
        "I didn't use any other architectures, as I already knew Microsoft's XGBooster to be one of the best choices that juggles good time performance and high accuracy."
      ]
    },
    {
      "cell_type": "markdown",
      "metadata": {
        "id": "dI1yb95A8r3k"
      },
      "source": [
        "### 2.3 Setup the Final Classifier\n",
        "Finally, in this last cell, set the cls variable to either the best model as occured by the stratified cross_validation, or choose to retrain your classifier in the whole dataset (X, y). There is no correct answer, but try to explain your choice. Then, save your model using pickle and upload it with your submission to e-learning!"
      ]
    },
    {
      "cell_type": "code",
      "execution_count": 10,
      "metadata": {
        "id": "GYNkmiUOXMmh"
      },
      "outputs": [],
      "source": [
        "import pickle\n",
        "\n",
        "### BEGIN SOLUTION\n",
        "\n",
        "# I chose to retrain the model in the whole dataset because\n",
        "# either way it scores very well and also, it wouldn't let me\n",
        "# pass it without invoking 'fit' in this code box again.\n",
        "cls = XGBClassifier(n_estimators=100, tree_method='gpu_hist')\n",
        "cls.fit(X, y)\n",
        "# save with pickle\n",
        "file_name = \"xgbcls.pkl\"\n",
        "pickle.dump(cls, open(file_name, 'wb'))\n",
        "### END SOLUTION\n",
        "\n",
        "\n",
        "# load\n",
        "cls = pickle.load(open(file_name, \"rb\"))\n",
        "\n",
        "test_set = pd.read_csv(\"test_set_noclass.csv\")\n",
        "predictions = cls.predict(test_set)\n",
        "\n",
        "# We are going to run the following code\n",
        "if False:\n",
        "  from sklearn.metrics import f1_score, balanced_accuracy_score\n",
        "  final_test_set = pd.read_csv('test_set.csv')\n",
        "  ground_truth = final_test_set['CLASS']\n",
        "  print(\"Balanced Accuracy: {}\".format(balanced_accuracy_score(predictions, ground_truth)))\n",
        "  print(\"F1 Weighted-Score: {}\".format(f1_score(predictions, ground_truth, average='weighted')))"
      ]
    },
    {
      "cell_type": "markdown",
      "metadata": {
        "id": "2pB4bTSj4Bvj"
      },
      "source": [
        "Both metrics should aim above 82%! This is going to be tested by us! Make sure your cross validation or your retrained model achieves high balanced accuracy and f1_score (based on 2.1) (more than 88%) as it should achieve at least 82% in our unknown test set!\n"
      ]
    },
    {
      "cell_type": "markdown",
      "metadata": {
        "id": "osJK4OGy9J9f"
      },
      "source": [
        "Please provide your feedback regarding this project! Did you enjoy it?"
      ]
    },
    {
      "cell_type": "code",
      "execution_count": 11,
      "metadata": {
        "id": "UpFilLbT9Y03"
      },
      "outputs": [],
      "source": [
        "# Pretty solid and enjoyable test.\n",
        "# As per the last one, I liked having a lot of freedom in how I will solve each task.\n",
        "# I have no real complaints.\n",
        "\n",
        "# (why a code box? xd)\n",
        "\n",
        "pass"
      ]
    }
  ],
  "metadata": {
    "accelerator": "GPU",
    "colab": {
      "provenance": []
    },
    "kernelspec": {
      "display_name": "Python 3",
      "language": "python",
      "name": "python3"
    },
    "language_info": {
      "codemirror_mode": {
        "name": "ipython",
        "version": 3
      },
      "file_extension": ".py",
      "mimetype": "text/x-python",
      "name": "python",
      "nbconvert_exporter": "python",
      "pygments_lexer": "ipython3",
      "version": "3.7.10"
    }
  },
  "nbformat": 4,
  "nbformat_minor": 0
}